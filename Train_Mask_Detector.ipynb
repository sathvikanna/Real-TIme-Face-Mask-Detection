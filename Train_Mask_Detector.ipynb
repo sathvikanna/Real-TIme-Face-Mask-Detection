{
 "cells": [
  {
   "source": [
    "# Training Mask Detection Model"
   ],
   "cell_type": "markdown",
   "metadata": {}
  },
  {
   "source": [
    "## Load Libraries"
   ],
   "cell_type": "markdown",
   "metadata": {}
  },
  {
   "cell_type": "code",
   "execution_count": null,
   "id": "64f81198",
   "metadata": {
    "id": "64f81198"
   },
   "outputs": [],
   "source": [
    "import os\n",
    "import numpy as np\n",
    "from sklearn.metrics import classification_report\n",
    "from sklearn.model_selection import train_test_split\n",
    "from tensorflow.keras.preprocessing.image import load_img, img_to_array\n",
    "from tensorflow.keras.preprocessing.image import ImageDataGenerator\n",
    "from tensorflow.keras.applications import MobileNetV2\n",
    "from tensorflow.keras.applications.mobilenet_v2 import preprocess_input\n",
    "from tensorflow.keras.layers import Input, Dense, Flatten, Dropout, AveragePooling2D\n",
    "from tensorflow.keras.models import Model\n",
    "from tensorflow.keras.optimizers import Adam"
   ]
  },
  {
   "source": [
    "## Loading Mask and No Mask Images\n",
    "\n",
    "<pre>\n",
    "X - Images\n",
    "Y - Label\n",
    "    0 - Mask\n",
    "    1 - No Mask\n",
    "</pre>"
   ],
   "cell_type": "markdown",
   "metadata": {}
  },
  {
   "cell_type": "code",
   "execution_count": null,
   "id": "36578297",
   "metadata": {
    "colab": {
     "base_uri": "https://localhost:8080/"
    },
    "id": "36578297",
    "outputId": "e9ce8985-cbd1-44b3-8e71-01c58d8ce66e"
   },
   "outputs": [
    {
     "name": "stderr",
     "output_type": "stream",
     "text": [
      "/usr/local/lib/python3.7/dist-packages/PIL/Image.py:960: UserWarning: Palette images with Transparency expressed in bytes should be converted to RGBA images\n",
      "  \"Palette images with Transparency expressed in bytes should be \"\n"
     ]
    }
   ],
   "source": [
    "DATASET = './dataset'\n",
    "TARGET_SIZE = (224, 224)\n",
    "images = []\n",
    "labels = []\n",
    "\n",
    "# with_mask    : 0\n",
    "# without_mask : 1\n",
    "\n",
    "for label, IMAGE_CLASS in enumerate(os.listdir(DATASET)):\n",
    "    IMAGE_CLASS_FOLDER = os.path.join(DATASET, IMAGE_CLASS)\n",
    "    for IMAGE in os.listdir(IMAGE_CLASS_FOLDER):\n",
    "        IMAGE_PATH = os.path.join(IMAGE_CLASS_FOLDER, IMAGE)\n",
    "        image = load_img(IMAGE_PATH, target_size=TARGET_SIZE)\n",
    "        image = img_to_array(image)\n",
    "        image = preprocess_input(image)\n",
    "        \n",
    "        images.append(image)\n",
    "        labels.append(label)\n",
    "        \n",
    "images = np.array(images, dtype='float32')\n",
    "labels = np.array(labels)\n",
    " \n",
    "trainX, testX, trainY, testY = train_test_split(images, labels, test_size=0.20, stratify=labels, random_state=42)"
   ]
  },
  {
   "source": [
    "## Image Generator for performing Data Augumentation"
   ],
   "cell_type": "markdown",
   "metadata": {}
  },
  {
   "cell_type": "code",
   "execution_count": null,
   "id": "ef36da25",
   "metadata": {
    "id": "ef36da25"
   },
   "outputs": [],
   "source": [
    "generator = ImageDataGenerator(\n",
    "    rotation_range=20,\n",
    "    zoom_range=0.15,\n",
    "    width_shift_range=0.2,\n",
    "    height_shift_range=0.2,\n",
    "    shear_range=0.15,\n",
    "    horizontal_flip=True,\n",
    "    fill_mode=\"nearest\")"
   ]
  },
  {
   "source": [
    "## Mask Detection Model built from MOBILENET using Transfer Learning"
   ],
   "cell_type": "markdown",
   "metadata": {}
  },
  {
   "cell_type": "code",
   "execution_count": null,
   "id": "4cdc61a9",
   "metadata": {
    "colab": {
     "base_uri": "https://localhost:8080/"
    },
    "id": "4cdc61a9",
    "outputId": "e7ff4a0f-3377-4633-95eb-2048e0b0108d"
   },
   "outputs": [
    {
     "name": "stdout",
     "output_type": "stream",
     "text": [
      "Downloading data from https://storage.googleapis.com/tensorflow/keras-applications/mobilenet_v2/mobilenet_v2_weights_tf_dim_ordering_tf_kernels_1.0_224_no_top.h5\n",
      "9412608/9406464 [==============================] - 0s 0us/step\n",
      "Epoch 1/5\n",
      "95/95 [==============================] - 64s 339ms/step - loss: 0.3382 - accuracy: 0.8563 - val_loss: 0.1265 - val_accuracy: 0.9765\n",
      "Epoch 2/5\n",
      "95/95 [==============================] - 29s 306ms/step - loss: 0.1243 - accuracy: 0.9614 - val_loss: 0.0760 - val_accuracy: 0.9817\n",
      "Epoch 3/5\n",
      "95/95 [==============================] - 29s 302ms/step - loss: 0.0749 - accuracy: 0.9796 - val_loss: 0.0565 - val_accuracy: 0.9844\n",
      "Epoch 4/5\n",
      "95/95 [==============================] - 29s 306ms/step - loss: 0.0614 - accuracy: 0.9792 - val_loss: 0.0509 - val_accuracy: 0.9804\n",
      "Epoch 5/5\n",
      "95/95 [==============================] - 29s 304ms/step - loss: 0.0533 - accuracy: 0.9825 - val_loss: 0.0419 - val_accuracy: 0.9870\n"
     ]
    }
   ],
   "source": [
    "Net = MobileNetV2(include_top=False, weights='imagenet', input_shape=(224, 224, 3))\n",
    " \n",
    "X = Net.output\n",
    "X = AveragePooling2D(pool_size=(7, 7))(X)\n",
    "X = Flatten(name=\"flatten\")(X)\n",
    "X = Dense(128, activation=\"relu\")(X)\n",
    "X = Dropout(0.5)(X)\n",
    "X = Dense(1, activation=\"sigmoid\")(X)\n",
    " \n",
    "model = Model(inputs=Net.input, outputs=X)\n",
    " \n",
    "for layer in Net.layers:\n",
    "    layer.trainable = False\n",
    "    \n",
    "model.compile(loss='binary_crossentropy', optimizer=Adam(learning_rate=1e-4), metrics=['accuracy'])\n",
    " \n",
    "EPOCHS = 5\n",
    "BATCH_SIZE = 32\n",
    " \n",
    "_ = model.fit(\n",
    "    generator.flow(trainX, trainY, batch_size=BATCH_SIZE),\n",
    "    steps_per_epoch=len(trainX) // BATCH_SIZE,\n",
    "    validation_data=(testX, testY),\n",
    "    validation_steps=len(testX) // BATCH_SIZE,\n",
    "    epochs=EPOCHS)"
   ]
  },
  {
   "source": [
    "## Model Performance"
   ],
   "cell_type": "markdown",
   "metadata": {}
  },
  {
   "cell_type": "code",
   "execution_count": null,
   "id": "c247d16f",
   "metadata": {
    "colab": {
     "base_uri": "https://localhost:8080/"
    },
    "id": "c247d16f",
    "outputId": "47d76425-c401-47a9-abfe-419fd60962d4"
   },
   "outputs": [
    {
     "name": "stdout",
     "output_type": "stream",
     "text": [
      "              precision    recall  f1-score   support\n",
      "\n",
      "           0       0.98      0.99      0.99       383\n",
      "           1       0.99      0.98      0.99       384\n",
      "\n",
      "    accuracy                           0.99       767\n",
      "   macro avg       0.99      0.99      0.99       767\n",
      "weighted avg       0.99      0.99      0.99       767\n",
      "\n"
     ]
    }
   ],
   "source": [
    "probs = model.predict(testX, batch_size=BATCH_SIZE)\n",
    " \n",
    "preds = np.where(probs > 0.5, 1, 0)\n",
    " \n",
    "print(classification_report(testY, preds))"
   ]
  },
  {
   "source": [
    "## Saving Trained Mask Detection Model"
   ],
   "cell_type": "markdown",
   "metadata": {}
  },
  {
   "cell_type": "code",
   "execution_count": null,
   "id": "90f3d1a1",
   "metadata": {
    "colab": {
     "base_uri": "https://localhost:8080/"
    },
    "id": "90f3d1a1",
    "outputId": "302d48c9-bc84-4f64-c03c-da3c64b8e6f2"
   },
   "outputs": [
    {
     "name": "stderr",
     "output_type": "stream",
     "text": [
      "/usr/local/lib/python3.7/dist-packages/tensorflow/python/keras/utils/generic_utils.py:497: CustomMaskWarning: Custom mask layers require a config and must override get_config. When loading, the custom mask layer must be passed to the custom_objects argument.\n",
      "  category=CustomMaskWarning)\n"
     ]
    }
   ],
   "source": [
    "model.save(\"mask_detector.model\", save_format=\"h5\")"
   ]
  },
  {
   "cell_type": "code",
   "execution_count": null,
   "id": "qTgoRt-VIV0-",
   "metadata": {
    "id": "qTgoRt-VIV0-"
   },
   "outputs": [],
   "source": []
  }
 ],
 "metadata": {
  "accelerator": "GPU",
  "colab": {
   "collapsed_sections": [],
   "name": "Face-Mask-Detection.ipynb",
   "provenance": []
  },
  "kernelspec": {
   "name": "python395jvsc74a57bd02cfb04c94f96416d7428d1e2e7d1e1f247a4cad8978c9eca0be5f95d64fa94f9",
   "display_name": "Python 3.9.5 64-bit"
  },
  "language_info": {
   "codemirror_mode": {
    "name": "ipython",
    "version": 3
   },
   "file_extension": ".py",
   "mimetype": "text/x-python",
   "name": "python",
   "nbconvert_exporter": "python",
   "pygments_lexer": "ipython3",
   "version": "3.9.5"
  }
 },
 "nbformat": 4,
 "nbformat_minor": 5
}